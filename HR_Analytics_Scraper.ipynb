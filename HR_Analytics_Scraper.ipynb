{
 "cells": [
  {
   "cell_type": "code",
   "execution_count": 47,
   "metadata": {},
   "outputs": [],
   "source": [
    "from selenium import webdriver\n",
    "from bs4 import BeautifulSoup\n",
    "import time\n",
    "import pandas as pd"
   ]
  },
  {
   "cell_type": "code",
   "execution_count": 48,
   "metadata": {},
   "outputs": [],
   "source": [
    "df = pd.DataFrame(columns=['Title','Company','Ratings','Reviews','Experience','Salary','Location','Job_Post_History','URL'])"
   ]
  },
  {
   "cell_type": "code",
   "execution_count": 49,
   "metadata": {},
   "outputs": [
    {
     "name": "stderr",
     "output_type": "stream",
     "text": [
      "C:\\Users\\juhis\\AppData\\Local\\Temp/ipykernel_9268/776909547.py:4: DeprecationWarning: executable_path has been deprecated, please pass in a Service object\n",
      "  driver = webdriver.Chrome(\"C:\\\\chromedriver_win32\\\\chromedriver.exe\")\n"
     ]
    }
   ],
   "source": [
    "for param in range(1,11):\n",
    "    url = \"https://www.naukri.com/ui-jobs?k=ui\"\n",
    "\n",
    "    driver = webdriver.Chrome(\"C:\\\\chromedriver_win32\\\\chromedriver.exe\")\n",
    "    driver.get(url)\n",
    "\n",
    "    time.sleep(10)\n",
    "\n",
    "    soup = BeautifulSoup(driver.page_source,'html5lib')\n",
    "\n",
    "    # print(soup.prettify())\n",
    "\n",
    "    driver.close()\n",
    "\n",
    "    results = soup.find(class_='list')\n",
    "    job_elems = results.find_all('article',class_='jobTuple bgWhite br4 mb-8')\n",
    "\n",
    "    for job_elem in job_elems:\n",
    "\n",
    "        # URL to apply for the job     \n",
    "        URL = job_elem.find('a',class_='title fw500 ellipsis').get('href')\n",
    "    #     print(URL.strip())\n",
    "\n",
    "        # Post Title\n",
    "        Title = job_elem.find('a',class_='title fw500 ellipsis')\n",
    "\n",
    "        # Company Name\n",
    "        Company = job_elem.find('a',class_='subTitle ellipsis fleft')\n",
    "        \n",
    "\n",
    "        # Ratings\n",
    "        rating_span = job_elem.find('span',class_='starRating fleft dot')\n",
    "        if rating_span is None:\n",
    "            continue\n",
    "        else:\n",
    "            Ratings = rating_span.text\n",
    "\n",
    "        # Reviews Counts\n",
    "        Review_span = job_elem.find('a',class_='reviewsCount ml-5 fleft blue-text')\n",
    "        if Review_span is None:\n",
    "            continue\n",
    "        else:\n",
    "            Reviews = Review_span.text\n",
    "\n",
    "        # Years of experience Required\n",
    "        Exp = job_elem.find('li',class_='fleft grey-text br2 placeHolderLi experience')\n",
    "        Exp_span = Exp.find('span',class_='ellipsis fleft fs12 lh16')\n",
    "        if Exp_span is None:\n",
    "            continue\n",
    "        else:\n",
    "            Experience = Exp_span.text\n",
    "\n",
    "        # Salary offered for the job\n",
    "        Sal = job_elem.find('li',class_='fleft grey-text br2 placeHolderLi salary')\n",
    "        Sal_span = Sal.find('span',class_='ellipsis fleft fs12 lh16')\n",
    "        if Sal_span is None:\n",
    "            continue\n",
    "        else:\n",
    "            Salary = Sal_span.text\n",
    "\n",
    "        # Location for the job post\n",
    "        Loc = job_elem.find('li',class_='fleft grey-text br2 placeHolderLi location')\n",
    "        Loc_exp = Loc.find('span',class_='ellipsis fleft fs12 lh16')\n",
    "        if Loc_exp is None:\n",
    "            continue\n",
    "        else:\n",
    "            Location = Loc_exp.text\n",
    "\n",
    "        # Number of days since job posted\n",
    "        Hist = job_elem.find(\"div\",[\"type br2 fleft grey\",\"type br2 fleft green\"])\n",
    "        Post_Hist = Hist.find('span',class_='fleft fw500')\n",
    "        if Post_Hist is None:\n",
    "            continue\n",
    "        else:\n",
    "            Post_History = Post_Hist.text\n",
    "\n",
    "    #   Appending data to the DataFrame \n",
    "        df=df.append({'URL':URL,'Title':Title.text,'Company':Company.text,'Ratings':Ratings,'Reviews':Reviews,'Experience':Experience,'Salary':Salary,'Location':Location,'Job_Post_History':Post_History},ignore_index = True)"
   ]
  },
  {
   "cell_type": "code",
   "execution_count": 50,
   "metadata": {},
   "outputs": [
    {
     "data": {
      "text/plain": [
       "(120, 9)"
      ]
     },
     "execution_count": 50,
     "metadata": {},
     "output_type": "execute_result"
    }
   ],
   "source": [
    "df.shape"
   ]
  },
  {
   "cell_type": "code",
   "execution_count": 51,
   "metadata": {},
   "outputs": [
    {
     "data": {
      "text/html": [
       "<div>\n",
       "<style scoped>\n",
       "    .dataframe tbody tr th:only-of-type {\n",
       "        vertical-align: middle;\n",
       "    }\n",
       "\n",
       "    .dataframe tbody tr th {\n",
       "        vertical-align: top;\n",
       "    }\n",
       "\n",
       "    .dataframe thead th {\n",
       "        text-align: right;\n",
       "    }\n",
       "</style>\n",
       "<table border=\"1\" class=\"dataframe\">\n",
       "  <thead>\n",
       "    <tr style=\"text-align: right;\">\n",
       "      <th></th>\n",
       "      <th>Title</th>\n",
       "      <th>Company</th>\n",
       "      <th>Ratings</th>\n",
       "      <th>Reviews</th>\n",
       "      <th>Experience</th>\n",
       "      <th>Salary</th>\n",
       "      <th>Location</th>\n",
       "      <th>Job_Post_History</th>\n",
       "      <th>URL</th>\n",
       "    </tr>\n",
       "  </thead>\n",
       "  <tbody>\n",
       "    <tr>\n",
       "      <th>0</th>\n",
       "      <td>UX Designer / UI Developer</td>\n",
       "      <td>Agiline India Pvt Ltd</td>\n",
       "      <td>4.3</td>\n",
       "      <td>(4 Reviews)</td>\n",
       "      <td>4-7 Yrs</td>\n",
       "      <td>4,00,000 - 7,00,000 PA.</td>\n",
       "      <td>Madurai, Salem, Bangalore/Bengaluru</td>\n",
       "      <td>1 Day Ago</td>\n",
       "      <td>https://www.naukri.com/job-listings-ux-designe...</td>\n",
       "    </tr>\n",
       "    <tr>\n",
       "      <th>1</th>\n",
       "      <td>UI UX Designer and Developer</td>\n",
       "      <td>BLAZECLAN TECHNOLOGIES PRIVATE LIMITED</td>\n",
       "      <td>4.1</td>\n",
       "      <td>(46 Reviews)</td>\n",
       "      <td>4-8 Yrs</td>\n",
       "      <td>Not disclosed</td>\n",
       "      <td>Pune, Ahmedabad</td>\n",
       "      <td>1 Day Ago</td>\n",
       "      <td>https://www.naukri.com/job-listings-ui-ux-desi...</td>\n",
       "    </tr>\n",
       "    <tr>\n",
       "      <th>2</th>\n",
       "      <td>Lead - UI/UX Developer</td>\n",
       "      <td>Integra Software Services Pvt. Ltd.</td>\n",
       "      <td>3.7</td>\n",
       "      <td>(166 Reviews)</td>\n",
       "      <td>6-11 Yrs</td>\n",
       "      <td>Not disclosed</td>\n",
       "      <td>Pondicherry/Puducherry, Chennai</td>\n",
       "      <td>1 Day Ago</td>\n",
       "      <td>https://www.naukri.com/job-listings-lead-ui-ux...</td>\n",
       "    </tr>\n",
       "    <tr>\n",
       "      <th>3</th>\n",
       "      <td>UI / UX Developer</td>\n",
       "      <td>Capco</td>\n",
       "      <td>3.7</td>\n",
       "      <td>(133 Reviews)</td>\n",
       "      <td>4-8 Yrs</td>\n",
       "      <td>Not disclosed</td>\n",
       "      <td>Mumbai</td>\n",
       "      <td>1 Day Ago</td>\n",
       "      <td>https://www.naukri.com/job-listings-ui-ux-deve...</td>\n",
       "    </tr>\n",
       "    <tr>\n",
       "      <th>4</th>\n",
       "      <td>UI /UX Designer</td>\n",
       "      <td>CarDekho</td>\n",
       "      <td>3.7</td>\n",
       "      <td>(227 Reviews)</td>\n",
       "      <td>3-8 Yrs</td>\n",
       "      <td>Not disclosed</td>\n",
       "      <td>Jaipur</td>\n",
       "      <td>1 Day Ago</td>\n",
       "      <td>https://www.naukri.com/job-listings-ui-ux-desi...</td>\n",
       "    </tr>\n",
       "  </tbody>\n",
       "</table>\n",
       "</div>"
      ],
      "text/plain": [
       "                          Title                                 Company  \\\n",
       "0    UX Designer / UI Developer                   Agiline India Pvt Ltd   \n",
       "1  UI UX Designer and Developer  BLAZECLAN TECHNOLOGIES PRIVATE LIMITED   \n",
       "2        Lead - UI/UX Developer     Integra Software Services Pvt. Ltd.   \n",
       "3             UI / UX Developer                                   Capco   \n",
       "4               UI /UX Designer                                CarDekho   \n",
       "\n",
       "  Ratings        Reviews Experience                   Salary  \\\n",
       "0     4.3    (4 Reviews)    4-7 Yrs  4,00,000 - 7,00,000 PA.   \n",
       "1     4.1   (46 Reviews)    4-8 Yrs            Not disclosed   \n",
       "2     3.7  (166 Reviews)   6-11 Yrs            Not disclosed   \n",
       "3     3.7  (133 Reviews)    4-8 Yrs            Not disclosed   \n",
       "4     3.7  (227 Reviews)    3-8 Yrs            Not disclosed   \n",
       "\n",
       "                              Location Job_Post_History  \\\n",
       "0  Madurai, Salem, Bangalore/Bengaluru        1 Day Ago   \n",
       "1                      Pune, Ahmedabad        1 Day Ago   \n",
       "2      Pondicherry/Puducherry, Chennai        1 Day Ago   \n",
       "3                               Mumbai        1 Day Ago   \n",
       "4                               Jaipur        1 Day Ago   \n",
       "\n",
       "                                                 URL  \n",
       "0  https://www.naukri.com/job-listings-ux-designe...  \n",
       "1  https://www.naukri.com/job-listings-ui-ux-desi...  \n",
       "2  https://www.naukri.com/job-listings-lead-ui-ux...  \n",
       "3  https://www.naukri.com/job-listings-ui-ux-deve...  \n",
       "4  https://www.naukri.com/job-listings-ui-ux-desi...  "
      ]
     },
     "execution_count": 51,
     "metadata": {},
     "output_type": "execute_result"
    }
   ],
   "source": [
    "df.head()"
   ]
  },
  {
   "cell_type": "code",
   "execution_count": 52,
   "metadata": {},
   "outputs": [],
   "source": [
    "df.to_csv(\"Naukri_data_ui1.csv\",index=False)"
   ]
  },
  {
   "cell_type": "code",
   "execution_count": null,
   "metadata": {},
   "outputs": [],
   "source": []
  }
 ],
 "metadata": {
  "kernelspec": {
   "display_name": "Python 3",
   "language": "python",
   "name": "python3"
  },
  "language_info": {
   "codemirror_mode": {
    "name": "ipython",
    "version": 3
   },
   "file_extension": ".py",
   "mimetype": "text/x-python",
   "name": "python",
   "nbconvert_exporter": "python",
   "pygments_lexer": "ipython3",
   "version": "3.8.5"
  }
 },
 "nbformat": 4,
 "nbformat_minor": 2
}
